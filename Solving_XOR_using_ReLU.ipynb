{
  "nbformat": 4,
  "nbformat_minor": 0,
  "metadata": {
    "colab": {
      "provenance": []
    },
    "kernelspec": {
      "name": "python3",
      "display_name": "Python 3"
    },
    "language_info": {
      "name": "python"
    },
    "accelerator": "TPU"
  },
  "cells": [
    {
      "cell_type": "code",
      "execution_count": 1,
      "metadata": {
        "colab": {
          "base_uri": "https://localhost:8080/"
        },
        "id": "CxeDtvptxlok",
        "outputId": "7bc29538-8871-4ba2-e782-504e0fc5a0d6"
      },
      "outputs": [
        {
          "output_type": "stream",
          "name": "stdout",
          "text": [
            "1/1 [==============================] - 0s 169ms/step - loss: 0.0134 - accuracy: 1.0000\n",
            "Accuracy: 100.00%\n",
            "1/1 [==============================] - 0s 86ms/step\n",
            "[[0.04274886]\n",
            " [0.99625564]\n",
            " [0.9961671 ]\n",
            " [0.00227787]]\n"
          ]
        }
      ],
      "source": [
        "import tensorflow as tf\n",
        "import numpy as np\n",
        "\n",
        "# XOR input data\n",
        "x_train = np.array([[0, 0], [1, 1], [1, 0], [0, 1]], dtype=np.float32)\n",
        "\n",
        "# XOR labels\n",
        "y_train = np.array([[0], [0], [1], [1]], dtype=np.float32)\n",
        "\n",
        "# Define the model\n",
        "mod = tf.keras.Sequential([\n",
        "    tf.keras.layers.Dense(4, activation='relu', input_shape=(2,)),\n",
        "    tf.keras.layers.Dense(1, activation='sigmoid')\n",
        "])\n",
        "\n",
        "# Compile the model\n",
        "mod.compile(optimizer='adam', loss='binary_crossentropy', metrics=['accuracy'])\n",
        "\n",
        "# Train the model\n",
        "mod.fit(x_train, y_train, epochs=5000, verbose=0)\n",
        "\n",
        "# Evaluate the model on the training data\n",
        "loss, accuracy = mod.evaluate(x_train, y_train)\n",
        "print(f\"Accuracy: {accuracy * 100:.2f}%\")\n",
        "x_test=np.array([[0,0],[0,1],[1,0],[1,1]],dtype=np.float32)\n",
        "predictions=mod.predict(x_test)\n",
        "print(predictions)"
      ]
    }
  ]
}